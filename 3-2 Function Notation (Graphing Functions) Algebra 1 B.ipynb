{
 "cells": [
  {
   "cell_type": "code",
   "execution_count": 5,
   "id": "de62e3f5",
   "metadata": {},
   "outputs": [],
   "source": [
    "\"\"\"\n",
    "This notebook has class variables for linear Algebra to assist with teaching Algebra 1 HS.\n",
    "LEquation for Linear Equation('name of line', slope, Yintercept)\n",
    "LEquation: graph(xLow,xHigh,xInterval,yLow,yHigh,yInterval,q)\n",
    "            f(x) will use function notation on an input x\n",
    "            q is the number of quadrants 1 or 4 only\n",
    "LTable for Linear Table(\"name\",xLabel,yLabel,x1,y1,x2,y2,x3,y3)\n",
    "LTable: graph2 or graph3(xLow,xHigh,xInterval,yLow,yHigh,yInterval,q)\n",
    "            q is the number of quadrants 1 or 4 only\n",
    "for System of Linear Equations: \n",
    "LSystem(\"Sys Name\",'eq1name',q,m1,b1,'eq2Name',m2,b2,'eq3name',m3,b3,'eq4Name',m4,b4)\n",
    "            requires 2 equations input (first 7 parameters).\n",
    "for Quadratic Quations: \n",
    "QEquation(\"name\",a,b,c)\n",
    "F(m,x,b): \n",
    "will use function notation on a linear function\n",
    "slope(x1,y1,x2,y2) \n",
    "returns print statements for Vert and horizontal Change for slope.\n",
    "freshGraph(xLow,xHigh,xInt,yLow,yHigh,yInt,q)  \n",
    "gives a blank prepared graph space for 1 quad (0 to 10 by 1s both axes) or 4 quad (-5,5 by 1 both axes)\n",
    "\n",
    "LTable is better for graphing in quadrant 1 only. \n",
    "\"\"\"\n",
    "#from sympy import *\n",
    "import matplotlib.pyplot as plt\n",
    "import numpy as np\n",
    "import pandas as pd\n",
    "\n",
    "class LSystem:\n",
    "    def __init__(self,name,name1,m1,b1,name2,m2,b2,name3=False,m3=False,b3=False,name4=False,m4=False,b4=False):\n",
    "        self.name = name\n",
    "        self.name1 = name1\n",
    "        self.name2 = name2\n",
    "        self.name3 = name3\n",
    "        self.name4 = name4\n",
    "        self.slope1 = m1\n",
    "        self.yint1 = b1\n",
    "        self.slope2 = m2\n",
    "        self.yint2 = b2\n",
    "        self.slope3 = m3\n",
    "        self.yint3 = b3\n",
    "        self.slope4 = m4\n",
    "        self.yint4 = b4\n",
    "        \n",
    "    def graph(self,xLow,xHigh,xInt,yLow,yHigh,yInt,q):\n",
    "       \n",
    "        if q == 4:\n",
    "            x = np.arange(xLow,xHigh,0.25)\n",
    "            y1 = self.slope1*x+self.yint1\n",
    "            y2 = self.slope2*x+self.yint2\n",
    "            y3 = self.slope3*x+self.yint3\n",
    "            y4 = self.slope4*x+self.yint4\n",
    "            fig = plt.figure()\n",
    "            ax= fig.add_subplot(1,1,1)        \n",
    "            ax.spines['left'].set_position('center')\n",
    "            ax.spines['bottom'].set_position('center')\n",
    "            ax.spines['right'].set_color('none')\n",
    "            ax.spines['top'].set_color('none')\n",
    "            ax.xaxis.set_ticks_position('bottom')\n",
    "            ax.yaxis.set_ticks_position('left')\n",
    "            plt.plot(x,y1,'-b', label = '%s'% self.name1)\n",
    "            plt.plot(x,y2,'-g', label = '%s'% self.name2)\n",
    "            # i need a conditional for no input below\n",
    "            if self.name3:\n",
    "                plt.plot(x,y3,'-r', label = '%s'% self.name3)\n",
    "            if self.name4:\n",
    "                plt.plot(x,y4,'-k', label = '%s'% self.name4)\n",
    "            plt.title(self.name)\n",
    "            \n",
    "            plt.xticks(np.arange(xLow, xHigh+1,xInt))\n",
    "            plt.yticks(np.arange(yLow, yHigh+1,yInt))\n",
    "            #plt.axhline(color=\"black\")\n",
    "            #plt.axvline(color=\"black\")\n",
    "            plt.grid()\n",
    "            return plt.show()\n",
    "        elif q == 1:\n",
    "            x = np.arange(xLow,xHigh,0.25)\n",
    "            y1 = self.slope1*x+self.yint1\n",
    "            y2 = self.slope2*x+self.yint2\n",
    "            y3 = self.slope3*x+self.yint3\n",
    "            y4 = self.slope4*x+self.yint4\n",
    "            plt.plot(x,y1,'-b', label = '%s'% self.name1)\n",
    "            plt.plot(x,y2,'-g', label = '%s'% self.name2)\n",
    "            # i need a conditional for no input below\n",
    "            if self.name3:\n",
    "                plt.plot(x,y3,'-r', label = '%s'% self.name3)\n",
    "            if self.name4:\n",
    "                plt.plot(x,y4,'-k', label = '%s'% self.name4)\n",
    "            plt.title(self.name)\n",
    "            plt.xticks(np.arange(xLow, xHigh+1,xInt))\n",
    "            plt.yticks(np.arange(yLow, yHigh+1,yInt))\n",
    "            plt.xlabel(\"x-axis\")\n",
    "            plt.ylabel(\"y-axis\")\n",
    "            plt.axhline(color=\"black\")\n",
    "            plt.axvline(color=\"black\")\n",
    "            plt.grid()\n",
    "            return plt.show()\n",
    "        else:\n",
    "            print('Try again. I need better information to construct a coordinate plane!')\n",
    "\n",
    "class QEquation:\n",
    "    def __init__(self,name,a,b,c):\n",
    "        self.name = name\n",
    "        self.a = a\n",
    "        self.b = b\n",
    "        self.c = c\n",
    "        \n",
    "    def graph(self,xLow,xHigh,xInt,yLow,yHigh,yInt,q=False):\n",
    "       \n",
    "        x = np.linspace(xLow,yHigh,100)\n",
    "        y = (self.a*(x*x))+(self.b*x)+self.c\n",
    "        fig = plt.figure()\n",
    "        ax= fig.add_subplot(1,1,1)        \n",
    "        ax.spines['left'].set_position('center')\n",
    "        ax.spines['bottom'].set_position('center')\n",
    "        ax.spines['right'].set_color('none')\n",
    "        ax.spines['top'].set_color('none')\n",
    "        ax.xaxis.set_ticks_position('bottom')\n",
    "        ax.yaxis.set_ticks_position('left')\n",
    "        plt.plot(x,y,'-b', label = '%s'% self.name)\n",
    "        plt.xticks(np.arange(xLow, xHigh+1,xInt))\n",
    "        plt.yticks(np.arange(yLow, yHigh+1,yInt))\n",
    "        plt.title(self.name)\n",
    "        plt.axhline(color=\"black\")\n",
    "        plt.axvline(color=\"black\")\n",
    "        plt.legend(loc='upper left')\n",
    "        plt.ylim(yLow,yHigh)\n",
    "        plt.grid()\n",
    "        return plt.show()\n",
    "\n",
    "    def f(self,x):\n",
    "        y = self.slope*x+self.yint\n",
    "        print('f(x) = %sx + (%s)'%(self.slope,self.yint))\n",
    "        print('f(%s) = %s(%s) + (%s)'%(x,self.slope,x,self.yint))\n",
    "        print('f(%s) = %s'%(x,y))\n",
    "    \n",
    "class LEquation:\n",
    "    def __init__(self,name,m,b):\n",
    "        self.name = name\n",
    "        self.slope = m\n",
    "        self.yint = b\n",
    "        \n",
    "    def graph(self,xLow,xHigh,xInt,yLow,yHigh,yInt,q):\n",
    "        if q == 4:\n",
    "            x = np.arange(xLow,xHigh,0.25)\n",
    "            y = self.slope*x+self.yint\n",
    "            fig = plt.figure()\n",
    "            ax= fig.add_subplot(1,1,1)        \n",
    "            ax.spines['left'].set_position('center')\n",
    "            ax.spines['bottom'].set_position('center')\n",
    "            ax.spines['right'].set_color('none')\n",
    "            ax.spines['top'].set_color('none')\n",
    "            ax.xaxis.set_ticks_position('bottom')\n",
    "            ax.yaxis.set_ticks_position('left')\n",
    "            plt.plot(x,y,'-b', label = '%s'% self.name)\n",
    "            plt.title(self.name)\n",
    "            \n",
    "            plt.xticks(np.arange(xLow, xHigh+1,xInt))\n",
    "            plt.yticks(np.arange(yLow, yHigh+1,yInt))\n",
    "            #plt.axhline(color=\"black\")\n",
    "            #plt.axvline(color=\"black\")\n",
    "            plt.grid()\n",
    "            return plt.show()\n",
    "        elif q == 1:\n",
    "            x = np.linspace(xLow,xHigh,100)\n",
    "            y = self.slope*x+self.yint\n",
    "            plt.plot(x,y,'-b', label = '%s'% self.name)\n",
    "            plt.title(self.name)\n",
    "            plt.xticks(np.arange(xLow, xHigh+1,xInt))\n",
    "            plt.yticks(np.arange(yLow, yHigh+1,yInt))\n",
    "            plt.xlabel(\"x-axis\")\n",
    "            plt.ylabel(\"y-axis\")\n",
    "            plt.axhline(color=\"black\")\n",
    "            plt.axvline(color=\"black\")\n",
    "            plt.grid()\n",
    "            return plt.show()\n",
    "        else:\n",
    "            print('Try again. I need better information to construct a coordinate plane!')\n",
    "        \n",
    "    def f(self,x):\n",
    "        y = self.slope*x+self.yint\n",
    "        print('f(x) = %sx + (%s)'%(self.slope,self.yint))\n",
    "        print('f(%s) = %s(%s) + (%s)'%(x,self.slope,x,self.yint))\n",
    "        print('f(%s) = %s'%(x,y))\n",
    "        \n",
    "    \n",
    "    \n",
    "class LTable:\n",
    "    def __init__(self,name,xLabel,yLabel,x1,y1,x2,y2,x3 = False,y3 = False,x4 = False,y4 = False,x5 = False,y5 = False):\n",
    "        self.name = name \n",
    "        self.xLabel = xLabel\n",
    "        self.yLabel = yLabel\n",
    "        self.input1 = x1\n",
    "        self.output1 = y1\n",
    "        self.input2 = x2\n",
    "        self.output2 = y2\n",
    "        self.input3 = x3\n",
    "        self.output3 = y3\n",
    "        self.input4 = x4\n",
    "        self.output4 = y4\n",
    "        self.input5 = x5\n",
    "        self.output5 = y5\n",
    "    def table2(self):\n",
    "        table = [{self.xLabel:self.input1, self.yLabel:self.output1},\n",
    "                {self.xLabel:self.input2, self.yLabel:self.output2},]\n",
    "                \n",
    "        df = pd.DataFrame(table)\n",
    "        table = df.set_index([self.xLabel,self.yLabel])\n",
    "        return table\n",
    "    def table3(self):\n",
    "        table = [{self.xLabel:self.input1, self.yLabel:self.output1},\n",
    "                {self.xLabel:self.input2, self.yLabel:self.output2},\n",
    "                {self.xLabel:self.input3, self.yLabel:self.output3}]\n",
    "        df = pd.DataFrame(table)\n",
    "        table = df.set_index([self.xLabel,self.yLabel])\n",
    "        return table\n",
    "    def table4(self):\n",
    "        table = [{self.xLabel:self.input1, self.yLabel:self.output1},\n",
    "                {self.xLabel:self.input2, self.yLabel:self.output2},\n",
    "                {self.xLabel:self.input3, self.yLabel:self.output3},\n",
    "                 {self.xLabel:self.input4, self.yLabel:self.output4}]\n",
    "        df = pd.DataFrame(table)\n",
    "        table = df.set_index([self.xLabel,self.yLabel])\n",
    "        return table\n",
    "    def table5(self):\n",
    "        table = [{self.xLabel:self.input1, self.yLabel:self.output1},\n",
    "                {self.xLabel:self.input2, self.yLabel:self.output2},\n",
    "                {self.xLabel:self.input3, self.yLabel:self.output3},\n",
    "                 {self.xLabel:self.input4, self.yLabel:self.output4},\n",
    "                 {self.xLabel:self.input5, self.yLabel:self.output5}]\n",
    "        df = pd.DataFrame(table)\n",
    "        table = df.set_index([self.xLabel,self.yLabel])\n",
    "        return table\n",
    "    def graph2(self,xLow,xHigh,xInt,yLow,yHigh,yInt,q):\n",
    "        table = [{self.xLabel:self.input1, self.yLabel:self.output1},\n",
    "                {self.xLabel:self.input2, self.yLabel:self.output2},]\n",
    "        if q == 4:\n",
    "            df = pd.DataFrame(table)\n",
    "            x = df[self.xLabel]\n",
    "            y = df[self.yLabel]\n",
    "            fig = plt.figure()\n",
    "            ax= fig.add_subplot(1,1,1)        \n",
    "            ax.spines['left'].set_position('center')\n",
    "            ax.spines['bottom'].set_position('center')\n",
    "            ax.spines['right'].set_color('none')\n",
    "            ax.spines['top'].set_color('none')\n",
    "            ax.xaxis.set_ticks_position('bottom')\n",
    "            ax.yaxis.set_ticks_position('left')\n",
    "            plt.plot(df[self.xLabel],df[self.yLabel], label = self.name)\n",
    "            plt.title(self.name)\n",
    "            \n",
    "            plt.xticks(np.arange(xLow, xHigh+1,xInt))\n",
    "            plt.yticks(np.arange(yLow, yHigh+1,yInt))\n",
    "            plt.legend()\n",
    "            plt.axhline(color=\"black\")\n",
    "            plt.axvline(color=\"black\")\n",
    "            plt.grid()\n",
    "            return plt.show()\n",
    "        elif q == 1:\n",
    "            df = pd.DataFrame(table)\n",
    "            x = df[self.xLabel]\n",
    "            y = df[self.yLabel]\n",
    "            fig = plt.figure()\n",
    "            plt.plot(df[self.xLabel],df[self.yLabel], label = self.name)\n",
    "            plt.title(self.name)\n",
    "            plt.xticks(np.arange(xLow, xHigh+1,xInt))\n",
    "            plt.yticks(np.arange(yLow, yHigh+1,yInt))\n",
    "            plt.xlabel(self.xLabel)\n",
    "            plt.ylabel(self.yLabel)\n",
    "            plt.axhline(color=\"black\")\n",
    "            plt.axvline(color=\"black\")\n",
    "            plt.grid()\n",
    "            return plt.show()\n",
    "        else:\n",
    "            print('Try again. I need better information to construct a coordinate plane!')\n",
    "           \n",
    "              \n",
    "    def graph3(self,xLow,xHigh,xInt,yLow,yHigh,yInt,q):\n",
    "        table = [{self.xLabel:self.input1, self.yLabel:self.output1},\n",
    "                {self.xLabel:self.input2, self.yLabel:self.output2},\n",
    "                 {self.xLabel:self.input3, self.yLabel:self.output3}]\n",
    "                \n",
    "        if q == 4:\n",
    "            df = pd.DataFrame(table)\n",
    "            x = df[self.xLabel]\n",
    "            y = df[self.yLabel]\n",
    "            fig = plt.figure()\n",
    "            ax= fig.add_subplot(1,1,1)        \n",
    "            ax.spines['left'].set_position('center')\n",
    "            ax.spines['bottom'].set_position('center')\n",
    "            ax.spines['right'].set_color('none')\n",
    "            ax.spines['top'].set_color('none')\n",
    "            ax.xaxis.set_ticks_position('bottom')\n",
    "            ax.yaxis.set_ticks_position('left')\n",
    "            plt.plot(df[self.xLabel],df[self.yLabel], label = self.name)\n",
    "            plt.title(self.name)\n",
    "            \n",
    "            plt.xticks(np.arange(xLow, xHigh+1,xInt))\n",
    "            plt.yticks(np.arange(yLow, yHigh+1,yInt))\n",
    "            plt.legend()\n",
    "            plt.axhline(color=\"black\")\n",
    "            plt.axvline(color=\"black\")\n",
    "            plt.grid()\n",
    "            return plt.show()\n",
    "        elif q == 1:\n",
    "            df = pd.DataFrame(table)\n",
    "            x = df[self.xLabel]\n",
    "            y = df[self.yLabel]\n",
    "            fig = plt.figure()\n",
    "            plt.plot(df[self.xLabel],df[self.yLabel], label = self.name)\n",
    "            plt.title(self.name)\n",
    "            plt.xlabel(self.xLabel)\n",
    "            plt.ylabel(self.yLabel)\n",
    "            plt.xticks(np.arange(xLow, xHigh+1,xInt))\n",
    "            plt.yticks(np.arange(yLow, yHigh+1,yInt))\n",
    "            plt.axhline(color=\"black\")\n",
    "            plt.axvline(color=\"black\")\n",
    "            plt.grid()\n",
    "            return plt.show()\n",
    "        else:\n",
    "            print('Try again. I need bett information to construct a coordinate plane!')\n",
    "           \n",
    "    def graph4(self,xLow,xHigh,xInt,yLow,yHigh,yInt,q):\n",
    "        table = [{self.xLabel:self.input1, self.yLabel:self.output1},\n",
    "                {self.xLabel:self.input2, self.yLabel:self.output2},\n",
    "                 {self.xLabel:self.input3, self.yLabel:self.output3},\n",
    "                 {self.xLabel:self.input4, self.yLabel:self.output4}]\n",
    "                \n",
    "        if q == 4:\n",
    "            df = pd.DataFrame(table)\n",
    "            x = df[self.xLabel]\n",
    "            y = df[self.yLabel]\n",
    "            fig = plt.figure()\n",
    "            ax= fig.add_subplot(1,1,1)        \n",
    "            ax.spines['left'].set_position('center')\n",
    "            ax.spines['bottom'].set_position('center')\n",
    "            ax.spines['right'].set_color('none')\n",
    "            ax.spines['top'].set_color('none')\n",
    "            ax.xaxis.set_ticks_position('bottom')\n",
    "            ax.yaxis.set_ticks_position('left')\n",
    "            plt.plot(df[self.xLabel],df[self.yLabel], label = self.name)\n",
    "            plt.title(self.name)\n",
    "            \n",
    "            plt.xticks(np.arange(xLow, xHigh+1,xInt))\n",
    "            plt.yticks(np.arange(yLow, yHigh+1,yInt))\n",
    "            plt.legend()\n",
    "            plt.axhline(color=\"black\")\n",
    "            plt.axvline(color=\"black\")\n",
    "            plt.grid()\n",
    "            return plt.show()\n",
    "        elif q == 1:\n",
    "            df = pd.DataFrame(table)\n",
    "            x = df[self.xLabel]\n",
    "            y = df[self.yLabel]\n",
    "            fig = plt.figure()\n",
    "            plt.plot(df[self.xLabel],df[self.yLabel], label = self.name)\n",
    "            plt.title(self.name)\n",
    "            plt.xlabel(self.xLabel)\n",
    "            plt.ylabel(self.yLabel)\n",
    "            plt.xticks(np.arange(xLow, xHigh+1,xInt))\n",
    "            plt.yticks(np.arange(yLow, yHigh+1,yInt))\n",
    "            plt.axhline(color=\"black\")\n",
    "            plt.axvline(color=\"black\")\n",
    "            plt.grid()\n",
    "            return plt.show()\n",
    "        else:\n",
    "            print('Try again. I need better information to construct a coordinate plane!')\n",
    "            \n",
    "    def graph5(self,xLow,xHigh,xInt,yLow,yHigh,yInt,q):\n",
    "        table = [{self.xLabel:self.input1, self.yLabel:self.output1},\n",
    "                {self.xLabel:self.input2, self.yLabel:self.output2},\n",
    "                 {self.xLabel:self.input3, self.yLabel:self.output3},\n",
    "                 {self.xLabel:self.input4, self.yLabel:self.output4},\n",
    "                 {self.xLabel:self.input5, self.yLabel:self.output5}]\n",
    "                \n",
    "        if q == 4:\n",
    "            df = pd.DataFrame(table)\n",
    "            x = df[self.xLabel]\n",
    "            y = df[self.yLabel]\n",
    "            fig = plt.figure()\n",
    "            ax= fig.add_subplot(1,1,1)        \n",
    "            ax.spines['left'].set_position('center')\n",
    "            ax.spines['bottom'].set_position('center')\n",
    "            ax.spines['right'].set_color('none')\n",
    "            ax.spines['top'].set_color('none')\n",
    "            ax.xaxis.set_ticks_position('bottom')\n",
    "            ax.yaxis.set_ticks_position('left')\n",
    "            plt.plot(df[self.xLabel],df[self.yLabel], label = self.name)\n",
    "            plt.title(\"Graph of: \" + self.name)\n",
    "            \n",
    "            plt.xticks(np.arange(xLow, xHigh+1,xInt))\n",
    "            plt.yticks(np.arange(yLow, yHigh+1,yInt))\n",
    "            plt.legend()\n",
    "            plt.axhline(color=\"black\")\n",
    "            plt.axvline(color=\"black\")\n",
    "            plt.grid()\n",
    "            return plt.show()\n",
    "        elif q == 1:\n",
    "            df = pd.DataFrame(table)\n",
    "            x = df[self.xLabel]\n",
    "            y = df[self.yLabel]\n",
    "            fig = plt.figure()\n",
    "            plt.plot(df[self.xLabel],df[self.yLabel], label = self.name)\n",
    "            plt.title(\"Graph of: \" + self.name)\n",
    "            plt.xlabel(self.xLabel)\n",
    "            plt.ylabel(self.yLabel)\n",
    "            plt.xticks(np.arange(xLow, xHigh+1,xInt))\n",
    "            plt.yticks(np.arange(yLow, yHigh+1,yInt))\n",
    "            plt.axhline(color=\"black\")\n",
    "            plt.axvline(color=\"black\")\n",
    "            plt.grid()\n",
    "            return plt.show()\n",
    "        else:\n",
    "            print('Try again. I need better information to construct a coordinate plane!')\n",
    "        \n",
    "def f(m,b,x):\n",
    "    y = m*x+b\n",
    "    print('f(%s) = %s(%s) + (%s)'%(x,m,x,b))\n",
    "    print('f(%s) = %s'%(x,y))   \n",
    "def g(m,b,x):\n",
    "    y = m*x+b\n",
    "    print('g(x) = %sx + (%s)'%(m,b))\n",
    "    print('g(%s) = %s(%s) + (%s)'%(x,m,x,b))\n",
    "    print('g(%s) = %s'%(x,y))\n",
    "def h(m,b,x):\n",
    "    y = m*x+b\n",
    "    print('h(x) = %sx + (%s)'%(m,b))\n",
    "    print('h(%s) = %s(%s) + (%s)'%(x,m,x,b))\n",
    "    print('h(%s) = %s'%(x,y))\n",
    "\n",
    "    \n",
    "def slope(x1,y1,x2,y2):\n",
    "    changeY = y2-y1\n",
    "    vert = '(%s) - (%s) = %s'% (y2,y1,changeY)\n",
    "    changeX = x2-x1\n",
    "    hor = '(%s) - (%s) = %s'% (x2,x1,changeX)\n",
    "    print('the change in y is: %s'% vert)\n",
    "    print('the change in x is: %s'% hor)\n",
    "    print('Slope (m) = %s / %s'% (changeY,changeX))\n",
    "    \n",
    "def freshGraphSpec(xLow,xHigh,xInt,yLow,yHigh,yInt):\n",
    "    plt.xticks(np.arange(xLow, xHigh+1,xInt))\n",
    "    plt.yticks(np.arange(yLow, yHigh+1,yInt))\n",
    "    plt.axhline(color=\"black\")\n",
    "    plt.axvline(color=\"black\")\n",
    "    plt.grid()\n",
    "    return plt.show()\n",
    "def freshGraph(xLow,xHigh,xInt,yLow,yHigh,yInt,q):\n",
    "    if q == 4:\n",
    "        fig = plt.figure()\n",
    "        ax= fig.add_subplot(1,1,1)        \n",
    "        ax.spines['left'].set_position('center')\n",
    "        ax.spines['bottom'].set_position('center')\n",
    "        ax.spines['right'].set_color('none')\n",
    "        ax.spines['top'].set_color('none')\n",
    "        ax.xaxis.set_ticks_position('bottom')\n",
    "        ax.yaxis.set_ticks_position('left')\n",
    "        plt.xticks(np.arange(xLow, xHigh+1,xInt))\n",
    "        plt.yticks(np.arange(yLow, yHigh+1,yInt))\n",
    "        plt.title('Blank 4 Quadrant Coordinate Plane')\n",
    "        \n",
    "        plt.axhline(color=\"black\")\n",
    "        plt.axvline(color=\"black\")\n",
    "        plt.grid()\n",
    "        return plt.show()\n",
    "    elif q == 1:\n",
    "        plt.title('Blank 1 Quadrant Coordinate Plane')\n",
    "        plt.xlabel(\"x-axis\")\n",
    "        plt.ylabel(\"y-axis\")\n",
    "        plt.xticks(np.arange(xLow, xHigh+1,xInt))\n",
    "        plt.yticks(np.arange(yLow, yHigh+1,yInt))\n",
    "        plt.axhline(color=\"black\")\n",
    "        plt.axvline(color=\"black\")\n",
    "        plt.grid()\n",
    "        return plt.show()\n",
    "    else:\n",
    "        print('Try again. How many quadrants 1 or 4?')\n",
    "        "
   ]
  },
  {
   "cell_type": "code",
   "execution_count": 44,
   "id": "d901cc0c",
   "metadata": {},
   "outputs": [],
   "source": [
    "# below is day 1 examples and problems\n",
    "tbP7 = LTable('f(x)=0.5x+5','x','f(x)',-2,4,0,5,2,6)\n",
    "eqP7 = LEquation('y=0.5x+5', 0.5,5)\n",
    "tbP19 = LTable('#19 Pg. 98','x','f(x)',-2,-2,0,-1,2,0)\n",
    "eqP19 = LEquation('y=1/2x-1',(1/2),(-1))\n",
    "# need to talk about seeing decimals as money for # 20 and multiples/ but giving ans\n",
    "# for scale example to lead back to example 3 try it then # 4 Review of Domain and Range\n",
    "#\n",
    "tbP20 = LTable('#20 Pg. 98','x','f(x)',-12,17.5,0,8.5,12,-0.5)\n",
    "eqP20 = LEquation('y=-3/4x+8.5',(-3/4),(8.5))\n",
    "# i want to work on #7,#19,#20, # 28 first (complete 11.4)\n",
    "# then i want #12,10,11, 9\n",
    "#tbP9.graph2(0,6,1,0,4,1)\n",
    "#sysP20.graph(-5,5,1,-5,5,1)"
   ]
  },
  {
   "cell_type": "markdown",
   "id": "6dd80880",
   "metadata": {},
   "source": [
    "# Slope: $ m = \\frac{change (y)}{change (x)} $\n",
    "\n",
    "\n",
    "# Point Slope Form: $ y - y_1 = m(x - x_1) $\n",
    "\n",
    "# Slope Intercept Form: $ y = mx + b $\n",
    "# Final Amounts Under Simple Interest: $ A=P(1+rt) $ \n",
    "## Where P = principle, r = rate, and t = time"
   ]
  },
  {
   "cell_type": "code",
   "execution_count": 49,
   "id": "c48e5580",
   "metadata": {},
   "outputs": [
    {
     "data": {
      "image/png": "[encoded data removed]",
      "text/plain": [
       "<Figure size 432x288 with 1 Axes>"
      ]
     },
     "metadata": {
      "needs_background": "light"
     },
     "output_type": "display_data"
    }
   ],
   "source": [
    "tbP9.graph2(0,6,1,0,4,1,1)"
   ]
  },
  {
   "cell_type": "code",
   "execution_count": 7,
   "id": "f0da06c0",
   "metadata": {},
   "outputs": [
    {
     "data": {
      "image/png": "[encoded data removed]",
      "text/plain": [
       "<Figure size 432x288 with 1 Axes>"
      ]
     },
     "metadata": {
      "needs_background": "light"
     },
     "output_type": "display_data"
    }
   ],
   "source": [
    "tbPhone.graph3(0,20,2,0,100,10,1)\n",
    "#eqPhone.f(2)"
   ]
  },
  {
   "cell_type": "markdown",
   "id": "8414c7c8",
   "metadata": {},
   "source": [
    "## Pg. 96 # 7\n",
    "# Sketch the graph of f(x) = 1/2x + 5.\n",
    "\n",
    "## Because the m in the function is a fraction (1/2) we want to use the denominator as our input.  this slope has a denominator of 2. \n",
    "\n",
    "## Always use three inputs for function to table to graph problems.\n",
    "## Step 1: Choose a number (2) , its opposite (-2), and zero (0)\n",
    "\n",
    "## Step 2: In your NOTEBOOK MAKE a TABLE using x values of -2,0,2 \n",
    "## Step 3:Use the function (notation) to get the out puts and store them in your table. "
   ]
  },
  {
   "cell_type": "code",
   "execution_count": 3,
   "id": "8213d12b",
   "metadata": {},
   "outputs": [
    {
     "name": "stdout",
     "output_type": "stream",
     "text": [
      "f(x) = 0.5x + (5)\n",
      "f(-2) = 0.5(-2) + (5)\n",
      "f(-2) = 4.0\n"
     ]
    }
   ],
   "source": [
    "eqP7.f(-2)\n",
    "\n"
   ]
  },
  {
   "cell_type": "code",
   "execution_count": 4,
   "id": "9b4aeb10",
   "metadata": {},
   "outputs": [
    {
     "data": {
      "text/html": [
       "<div>\n",
       "<style scoped>\n",
       "    .dataframe tbody tr th:only-of-type {\n",
       "        vertical-align: middle;\n",
       "    }\n",
       "\n",
       "    .dataframe tbody tr th {\n",
       "        vertical-align: top;\n",
       "    }\n",
       "\n",
       "    .dataframe thead th {\n",
       "        text-align: right;\n",
       "    }\n",
       "</style>\n",
       "<table border=\"1\" class=\"dataframe\">\n",
       "  <thead>\n",
       "    <tr style=\"text-align: right;\">\n",
       "      <th></th>\n",
       "      <th></th>\n",
       "    </tr>\n",
       "    <tr>\n",
       "      <th>x</th>\n",
       "      <th>f(x)</th>\n",
       "    </tr>\n",
       "  </thead>\n",
       "  <tbody>\n",
       "    <tr>\n",
       "      <th>-2</th>\n",
       "      <th>4</th>\n",
       "    </tr>\n",
       "    <tr>\n",
       "      <th>0</th>\n",
       "      <th>5</th>\n",
       "    </tr>\n",
       "    <tr>\n",
       "      <th>2</th>\n",
       "      <th>6</th>\n",
       "    </tr>\n",
       "  </tbody>\n",
       "</table>\n",
       "</div>"
      ],
      "text/plain": [
       "Empty DataFrame\n",
       "Columns: []\n",
       "Index: [(-2, 4), (0, 5), (2, 6)]"
      ]
     },
     "execution_count": 4,
     "metadata": {},
     "output_type": "execute_result"
    }
   ],
   "source": [
    "tbP7.table3()"
   ]
  },
  {
   "cell_type": "markdown",
   "id": "f6f08848",
   "metadata": {},
   "source": [
    "# Step 4: Make the Coordinate Plane\n",
    "## a. Pick the range and interval for your X and Y axes. \n",
    "##      - Standard will be -5 to 5 counting by 1 on both axes\n",
    "##      - Some times we need special graphs like 1 quadrant graphs."
   ]
  },
  {
   "cell_type": "code",
   "execution_count": 6,
   "id": "5064e567",
   "metadata": {
    "scrolled": true
   },
   "outputs": [
    {
     "data": {
      "image/png": "[encoded data removed]",
      "text/plain": [
       "<Figure size 432x288 with 1 Axes>"
      ]
     },
     "metadata": {
      "needs_background": "light"
     },
     "output_type": "display_data"
    }
   ],
   "source": [
    "freshGraph(4)"
   ]
  },
  {
   "cell_type": "markdown",
   "id": "fcf8f26d",
   "metadata": {},
   "source": [
    "# For this problem we want a four quadrant graph, like above"
   ]
  },
  {
   "cell_type": "markdown",
   "id": "6b0fb0e9",
   "metadata": {},
   "source": [
    "# Step 4: Graph the equation (Continued)\n",
    "# b. Draw your X and Y axes on your 10x10 grid.\n",
    "# c. Draw in your intervals (the elevators and floors)\n"
   ]
  },
  {
   "cell_type": "code",
   "execution_count": 154,
   "id": "04bf766a",
   "metadata": {
    "scrolled": true
   },
   "outputs": [
    {
     "data": {
      "image/png": "[encoded data removed]",
      "text/plain": [
       "<Figure size 432x288 with 1 Axes>"
      ]
     },
     "metadata": {
      "needs_background": "light"
     },
     "output_type": "display_data"
    }
   ],
   "source": [
    "freshGraph(4)"
   ]
  },
  {
   "cell_type": "markdown",
   "id": "95c703f3",
   "metadata": {},
   "source": [
    "# Step 5 Plot  and Connect the Points \n",
    "# a. Use your table to graph each (x,f(x)) or (x,y)\n",
    "# b. Stop if this is a discreet function\n",
    "# c. Connect each point with a ruler and extend the line across the entire space. Unless it is a Discreet function. "
   ]
  },
  {
   "cell_type": "code",
   "execution_count": 160,
   "id": "58666375",
   "metadata": {},
   "outputs": [
    {
     "data": {
      "image/png": "[encoded data removed]",
      "text/plain": [
       "<Figure size 432x288 with 1 Axes>"
      ]
     },
     "metadata": {
      "needs_background": "light"
     },
     "output_type": "display_data"
    }
   ],
   "source": [
    "eqP7.graph(-5,5,1,-5,5,1)"
   ]
  },
  {
   "cell_type": "markdown",
   "id": "4696d46d",
   "metadata": {},
   "source": [
    "# Let look back at Step 4 part a. \n",
    "# We choose a standard graph\n",
    "# This is ok, but our line is at the top left (Quadrant II) and the rest of the plane is wasted space."
   ]
  },
  {
   "cell_type": "code",
   "execution_count": 161,
   "id": "2b08801b",
   "metadata": {},
   "outputs": [
    {
     "data": {
      "image/png": "[encoded data removed]",
      "text/plain": [
       "<Figure size 432x288 with 1 Axes>"
      ]
     },
     "metadata": {
      "needs_background": "light"
     },
     "output_type": "display_data"
    }
   ],
   "source": [
    "tbP7.graph3(-5,5,1,-5,5,1)"
   ]
  },
  {
   "cell_type": "markdown",
   "id": "2a4f3bb1",
   "metadata": {},
   "source": [
    "# We can move the x-axis down or up, and the y-axis can move left or right as needed. \n",
    "# You see this in a quadrant I graph."
   ]
  },
  {
   "cell_type": "code",
   "execution_count": 163,
   "id": "1884a74e",
   "metadata": {
    "scrolled": true
   },
   "outputs": [
    {
     "data": {
      "image/png": "[encoded data removed]",
      "text/plain": [
       "<Figure size 432x288 with 1 Axes>"
      ]
     },
     "metadata": {
      "needs_background": "light"
     },
     "output_type": "display_data"
    }
   ],
   "source": [
    "freshGraph(1)"
   ]
  },
  {
   "cell_type": "markdown",
   "id": "6f928c73",
   "metadata": {},
   "source": [
    "# On Pg. 98, please work on Problem # 19\n",
    "# f(x) = 1/2x -1\n",
    "# Take your time and use your notes to work through the process."
   ]
  },
  {
   "cell_type": "code",
   "execution_count": null,
   "id": "f02ac437",
   "metadata": {},
   "outputs": [],
   "source": [
    "#Sketch the graph of f(x) = 1/2x-1"
   ]
  },
  {
   "cell_type": "code",
   "execution_count": 19,
   "id": "26720deb",
   "metadata": {},
   "outputs": [
    {
     "data": {
      "image/png": "[encoded data removed]",
      "text/plain": [
       "<Figure size 432x288 with 1 Axes>"
      ]
     },
     "metadata": {
      "needs_background": "light"
     },
     "output_type": "display_data"
    }
   ],
   "source": [
    "#tbP19.table3()\n",
    "eqP19.graph(-5,5,1,-5,5,1)\n"
   ]
  },
  {
   "cell_type": "markdown",
   "id": "fe724f83",
   "metadata": {},
   "source": [
    "# On Pg. 98, please work on Problem # 20\n",
    "# Use f(x) = -3/4x +8.5  as your function\n",
    "# Use -12, 0, 12 as your x values (inputs)."
   ]
  },
  {
   "cell_type": "code",
   "execution_count": null,
   "id": "c3408b0a",
   "metadata": {},
   "outputs": [],
   "source": [
    "# Sketch the Graph of f(x) = -3/4x + 8.5"
   ]
  },
  {
   "cell_type": "code",
   "execution_count": 28,
   "id": "bbfdc33f",
   "metadata": {},
   "outputs": [
    {
     "data": {
      "text/html": [
       "<div>\n",
       "<style scoped>\n",
       "    .dataframe tbody tr th:only-of-type {\n",
       "        vertical-align: middle;\n",
       "    }\n",
       "\n",
       "    .dataframe tbody tr th {\n",
       "        vertical-align: top;\n",
       "    }\n",
       "\n",
       "    .dataframe thead th {\n",
       "        text-align: right;\n",
       "    }\n",
       "</style>\n",
       "<table border=\"1\" class=\"dataframe\">\n",
       "  <thead>\n",
       "    <tr style=\"text-align: right;\">\n",
       "      <th></th>\n",
       "      <th></th>\n",
       "    </tr>\n",
       "    <tr>\n",
       "      <th>x</th>\n",
       "      <th>f(x)</th>\n",
       "    </tr>\n",
       "  </thead>\n",
       "  <tbody>\n",
       "    <tr>\n",
       "      <th>-12</th>\n",
       "      <th>17.5</th>\n",
       "    </tr>\n",
       "    <tr>\n",
       "      <th>0</th>\n",
       "      <th>8.5</th>\n",
       "    </tr>\n",
       "    <tr>\n",
       "      <th>12</th>\n",
       "      <th>-0.5</th>\n",
       "    </tr>\n",
       "  </tbody>\n",
       "</table>\n",
       "</div>"
      ],
      "text/plain": [
       "Empty DataFrame\n",
       "Columns: []\n",
       "Index: [(-12, 17.5), (0, 8.5), (12, -0.5)]"
      ]
     },
     "execution_count": 28,
     "metadata": {},
     "output_type": "execute_result"
    }
   ],
   "source": [
    "#eqP20.f(12)\n",
    "tbP20.table3()"
   ]
  },
  {
   "cell_type": "code",
   "execution_count": 13,
   "id": "f365e957",
   "metadata": {},
   "outputs": [
    {
     "data": {
      "image/png": "[encoded data removed]",
      "text/plain": [
       "<Figure size 432x288 with 1 Axes>"
      ]
     },
     "metadata": {
      "needs_background": "light"
     },
     "output_type": "display_data"
    }
   ],
   "source": [
    "tbP20.graph3(-12,12,3,-20,20,4,4)\n",
    "#Pg. 97 # 12 Error Analysis"
   ]
  },
  {
   "cell_type": "code",
   "execution_count": null,
   "id": "51802474",
   "metadata": {},
   "outputs": [],
   "source": [
    "# student says the fucntion rule\n",
    "# for the above table is y = 9x+10\n",
    "# why is the student wrong?\n"
   ]
  },
  {
   "cell_type": "code",
   "execution_count": null,
   "id": "6e64c972",
   "metadata": {},
   "outputs": [],
   "source": [
    "# 28 Pg. 100 go to PDF."
   ]
  },
  {
   "cell_type": "code",
   "execution_count": 3,
   "id": "9dee241c",
   "metadata": {},
   "outputs": [],
   "source": [
    "eqPhone= LEquation('Grade as a function of Phone', -5,100)\n",
    "tbPhone= LTable('Grade as a function of Phone Usage',\"Phone Usage\", \"Grade\", 0,100,10,50,20,0)\n",
    "\n",
    "# then I want #12,10,11, 9\n",
    "tbP12 = LTable('#12 Pg. 97','x','y',1,10,2,19,3,28)\n",
    "#10 willalso use g(x) and h(x) functions\n",
    "tbP10g = LTable('g(x)=2x+1','x','g(x)',0,1,1,3,2,5,3,7,4,9)\n",
    "eqP10g = LEquation('g(x)=2x+1',2,1)\n",
    "tbP10h = LTable('h(x)=2x+2','x','h(x)',0,2,1,4,2,6,3,8,4,10)\n",
    "eqP10h = LEquation('h(x)=2x+2',2,2)\n",
    "sysP10 = LSystem('Graph of g(x) and h(x)','g(x)=2x+1',2,1,'h(x)=2x+2',2,2)\n",
    "#11 willalso use f(x) and g(x) functions\n",
    "tbP11f = LTable('f(x)=2x+5','x','f(x)',0,5,1,7,2,9,3,11,4,13)\n",
    "eqP11f = LEquation('f(x)=2x+5',2,5)\n",
    "tbP11g = LTable('g(x)=mx+b','x','g(x)',0,4,1,7,2,10,3,13,4,16)\n",
    "eqP11g = LEquation('g(x)=3x+4',3,4)\n",
    "sysP11 = LSystem('Graph of f(x) and g(x)','f(x)=2x+5',2,5,'g(x)=3x+4',3,4)\n",
    "#9 uses a table to graph the function, but eq for Function Notations\n",
    "tbP9 = LTable('f(x)=mx+b','x','f(x)',1,2,4,1,6,(1/3))\n",
    "eqP9 = LEquation('f(x)=x/-3 + 5/3',(-1/3),(5/3))\n",
    "# below is to get just two points on graph for # 9\n",
    "def graphP9():\n",
    "    x = [1,4]\n",
    "    y = [2,1]\n",
    "    fig = plt.figure()\n",
    "    plt.plot(x,y,'o')\n",
    "    plt.title(\"#9 Pg. 97\")\n",
    "    plt.xticks(np.arange(0, 4+1,1))\n",
    "    plt.yticks(np.arange(0, 3+1,1))\n",
    "    plt.xlabel(\"x\")\n",
    "    plt.ylabel(\"f(x)\")\n",
    "    plt.axhline(color=\"black\")\n",
    "    plt.axvline(color=\"black\")\n",
    "    plt.grid()\n",
    "    return plt.show()"
   ]
  },
  {
   "cell_type": "markdown",
   "id": "6ab1b2d8",
   "metadata": {},
   "source": [
    "# Slope: $ m = \\frac{change (y)}{change (x)} $\n",
    "\n",
    "\n",
    "# Point Slope Form: $ y - y_1 = m(x - x_1) $\n",
    "\n",
    "# Slope Intercept Form: $ y = mx + b $\n",
    "# Final Amounts Under Simple Interest: $ A=P(1+rt) $ \n",
    "## Where P = principle, r = rate, and t = time"
   ]
  },
  {
   "cell_type": "code",
   "execution_count": 14,
   "id": "de8dce4e",
   "metadata": {},
   "outputs": [
    {
     "data": {
      "text/html": [
       "<div>\n",
       "<style scoped>\n",
       "    .dataframe tbody tr th:only-of-type {\n",
       "        vertical-align: middle;\n",
       "    }\n",
       "\n",
       "    .dataframe tbody tr th {\n",
       "        vertical-align: top;\n",
       "    }\n",
       "\n",
       "    .dataframe thead th {\n",
       "        text-align: right;\n",
       "    }\n",
       "</style>\n",
       "<table border=\"1\" class=\"dataframe\">\n",
       "  <thead>\n",
       "    <tr style=\"text-align: right;\">\n",
       "      <th></th>\n",
       "      <th></th>\n",
       "    </tr>\n",
       "    <tr>\n",
       "      <th>x</th>\n",
       "      <th>y</th>\n",
       "    </tr>\n",
       "  </thead>\n",
       "  <tbody>\n",
       "    <tr>\n",
       "      <th>1</th>\n",
       "      <th>10</th>\n",
       "    </tr>\n",
       "    <tr>\n",
       "      <th>2</th>\n",
       "      <th>19</th>\n",
       "    </tr>\n",
       "    <tr>\n",
       "      <th>3</th>\n",
       "      <th>28</th>\n",
       "    </tr>\n",
       "  </tbody>\n",
       "</table>\n",
       "</div>"
      ],
      "text/plain": [
       "Empty DataFrame\n",
       "Columns: []\n",
       "Index: [(1, 10), (2, 19), (3, 28)]"
      ]
     },
     "execution_count": 14,
     "metadata": {},
     "output_type": "execute_result"
    }
   ],
   "source": [
    "tbP12.table3()\n",
    "#Pg. 97 # 12 Error Analysis"
   ]
  },
  {
   "cell_type": "markdown",
   "id": "921b52c3",
   "metadata": {},
   "source": [
    "# A student says the function rule for the table shown above is y = 9x+10\n",
    "# Why is the student wrong?\n",
    "# Use a function rule or table of values to show the students mistake."
   ]
  },
  {
   "cell_type": "code",
   "execution_count": null,
   "id": "324dce56",
   "metadata": {},
   "outputs": [],
   "source": [
    "# need blank space between problems. \n",
    "\n",
    "\n",
    "\n",
    "\n",
    "\n",
    "\n",
    "\n"
   ]
  },
  {
   "cell_type": "markdown",
   "id": "f3cba95f",
   "metadata": {},
   "source": [
    "## 10 Pg. 97\n",
    "# Consider the functions $ g(x) = 2x+1 $ and $ h(x) = 2x+2 $ \n",
    "# for the domains $ 0 < x < 5 $\n",
    "# Make a seperate table for each function, use 0,1,2 as your x values. \n",
    "# \n",
    "|x:  |g(x):|   |x:  |h(x):|\n",
    "|----|-----|---|----|-----|\n",
    "| 0  |     |   | 0  |     |\n",
    "| 1  |     |   | 1  |     |\n",
    "| 2  |     |   | 2  |     |\n",
    "| 3  |     |   | 3  |     |\n",
    "| 4  |     |   | 4  |     |"
   ]
  },
  {
   "cell_type": "code",
   "execution_count": 6,
   "id": "04ecff5e",
   "metadata": {
    "scrolled": true
   },
   "outputs": [
    {
     "name": "stdout",
     "output_type": "stream",
     "text": [
      "g(x) = 2x + (1)\n",
      "g(0) = 2(0) + (1)\n",
      "g(0) = 1\n"
     ]
    }
   ],
   "source": [
    "#eqP10 g(m,b,x)\n",
    "\n",
    "g(2,1,0)\n",
    "#tbP10g.table5()"
   ]
  },
  {
   "cell_type": "code",
   "execution_count": 7,
   "id": "c178f640",
   "metadata": {},
   "outputs": [
    {
     "name": "stdout",
     "output_type": "stream",
     "text": [
      "h(x) = 2x + (2)\n",
      "h(0) = 2(0) + (2)\n",
      "h(0) = 2\n"
     ]
    }
   ],
   "source": [
    "#eqP10 h(m,b,x)\n",
    "h(2,2,0)\n",
    "#tbP10h.table5()"
   ]
  },
  {
   "cell_type": "code",
   "execution_count": 31,
   "id": "5ea587af",
   "metadata": {},
   "outputs": [
    {
     "data": {
      "image/png": "[encoded data removed]",
      "text/plain": [
       "<Figure size 432x288 with 1 Axes>"
      ]
     },
     "metadata": {
      "needs_background": "light"
     },
     "output_type": "display_data"
    }
   ],
   "source": [
    "# Because we are using a domain 0 < x < 5 we can use a 1 quadrant plane.\n",
    "freshGraph(0,5,1,0,10,2,1)"
   ]
  },
  {
   "cell_type": "code",
   "execution_count": 10,
   "id": "026befc3",
   "metadata": {
    "scrolled": true
   },
   "outputs": [],
   "source": [
    "#sysP10.graph(0,5,1,0,10,2,1)"
   ]
  },
  {
   "cell_type": "code",
   "execution_count": null,
   "id": "9da97a0d",
   "metadata": {},
   "outputs": [],
   "source": []
  },
  {
   "cell_type": "markdown",
   "id": "ad2baa9f",
   "metadata": {},
   "source": [
    "## 11 Pg. 97\n",
    "# Consider the functions $ f(x) = 2x+5 $ and the table below \n",
    "|x:  |g(x):|\n",
    "|----|-----|\n",
    "| 0  | 4   |\n",
    "| 1  | 7   |\n",
    "| 2  | 10  |\n",
    "| 3  | 13  |\n",
    "| 4  | 16  |\n",
    "\n",
    "# 1st, write the function rule from the table for g(x). \n",
    "# 2nd, create a seperate table for f(x), using 0,1,2,3,4 as your x values. \n",
    "# $$ f(x) = 2x+5 $$\n",
    "\n",
    "|x:  |f(x):|\n",
    "|----|-----|\n",
    "| 0  |     |\n",
    "| 1  |     |\n",
    "| 2  |     |\n",
    "| 3  |     |\n",
    "| 4  |     |"
   ]
  },
  {
   "cell_type": "markdown",
   "id": "8c0058b8",
   "metadata": {},
   "source": [
    "# Answer the next three questions (a,b,c) in your notebook. "
   ]
  },
  {
   "cell_type": "markdown",
   "id": "ba73ae17",
   "metadata": {},
   "source": [
    "# a.) how do the slopes (m) of the graphs of functions f and g compare?"
   ]
  },
  {
   "cell_type": "code",
   "execution_count": null,
   "id": "b35eb83d",
   "metadata": {},
   "outputs": [],
   "source": []
  },
  {
   "cell_type": "markdown",
   "id": "e8962f4a",
   "metadata": {},
   "source": [
    "# b.) Which Function has the greater y-intercept?"
   ]
  },
  {
   "cell_type": "code",
   "execution_count": null,
   "id": "e89a07d1",
   "metadata": {},
   "outputs": [],
   "source": []
  },
  {
   "cell_type": "markdown",
   "id": "5559053f",
   "metadata": {},
   "source": [
    "# c.) If the domains of each function are all real numbers, compare the ranges for each function. "
   ]
  },
  {
   "cell_type": "code",
   "execution_count": null,
   "id": "a794dd52",
   "metadata": {},
   "outputs": [],
   "source": []
  },
  {
   "cell_type": "code",
   "execution_count": null,
   "id": "5326f266",
   "metadata": {},
   "outputs": [],
   "source": []
  },
  {
   "cell_type": "markdown",
   "id": "c51e4aa1",
   "metadata": {},
   "source": [
    "## Problem 22 Pg. 98\n",
    "#  Kyle invests 600 dollars which earns 3% (0.03) simple interest for 5 years . \n",
    "# Use A(t) = P(1+rt) to determine how much money he will have after 5 years.\n",
    "# Interpret the rate of change in this situation.\n",
    "### The variable *p* is for principle, the amount invested *600* dollars\n",
    "### The variable *r* is the interest rate as a decimal (3/100 = *0.03*)\n",
    "### The variable *t* is time in years. *5* years"
   ]
  },
  {
   "cell_type": "code",
   "execution_count": null,
   "id": "65131304",
   "metadata": {},
   "outputs": [],
   "source": []
  },
  {
   "cell_type": "markdown",
   "id": "b88246ff",
   "metadata": {},
   "source": [
    "### Substitute all of the variables into the function, except t, as this will be our input or function variable. \n",
    "$a(t) = 600(1+0.03t)$\n",
    "### Distribute the Principle (600) to both terms in the paraenthesis.\n",
    "$a(t) = 600(1) + 600(0.03t)$\n",
    "### Multiply \n",
    "$a(t) = 600+18t$\n",
    "### Swap the terms to make a(t) = mx+b\n",
    "$a(t) = 18t+600$\n",
    "### Rate of change is the slope or (m). What is it telling us about Kyle's interest each year?"
   ]
  },
  {
   "cell_type": "code",
   "execution_count": null,
   "id": "6583244d",
   "metadata": {},
   "outputs": [],
   "source": []
  },
  {
   "cell_type": "markdown",
   "id": "d1dace44",
   "metadata": {},
   "source": [
    "# Try it - Pg. 95 Example 5 -Try it! Part a, b, and c. \n",
    "## It is just like the problem above, except the principle is 450, and interest is 4%, and time is 6 years. \n",
    "# Simple Interest: $ A=P(1+rt) $ \n",
    "## Where P = principle, r = rate, and t = time"
   ]
  },
  {
   "cell_type": "code",
   "execution_count": null,
   "id": "96a96d85",
   "metadata": {},
   "outputs": [],
   "source": []
  },
  {
   "cell_type": "markdown",
   "id": "3067e120",
   "metadata": {},
   "source": [
    "# Number 9 on Pg. 96\n",
    "# The two points on the graph are given by the linear function *f*"
   ]
  },
  {
   "cell_type": "code",
   "execution_count": 50,
   "id": "b048d072",
   "metadata": {
    "scrolled": true
   },
   "outputs": [
    {
     "data": {
      "image/png": "[encoded data removed]",
      "text/plain": [
       "<Figure size 432x288 with 1 Axes>"
      ]
     },
     "metadata": {
      "needs_background": "light"
     },
     "output_type": "display_data"
    }
   ],
   "source": [
    "graphP9()"
   ]
  },
  {
   "cell_type": "markdown",
   "id": "748e2849",
   "metadata": {},
   "source": [
    "# Create a table of values, and record the orderer pairs from the graph into the table. Use the table to find Slope (m) and the y-intercept (b). $$ f(x) = mx+b $$\n",
    "|x:  |f(x):|\n",
    "|----|-----|\n",
    "|    |     |\n",
    "|    |     |\n",
    "|    |     |"
   ]
  },
  {
   "cell_type": "markdown",
   "id": "09bc7fa1",
   "metadata": {},
   "source": [
    "# Find the Slope using $\\frac{Change Y}{Change X}$ from the table.\n",
    "# We can use Point Slope form From Chapter 2 to help get the function rule.\n",
    "# Choose a an input and out put from the table and substitute into point-slope form of a line.\n",
    "# Point Slope Form: $ y - y_1 = m(x - x_1) $\n",
    "# then solve for Slope Intercept Form: $ y = mx + b $"
   ]
  },
  {
   "cell_type": "code",
   "execution_count": null,
   "id": "b0d471bf",
   "metadata": {},
   "outputs": [],
   "source": [
    "f(x) = "
   ]
  },
  {
   "cell_type": "markdown",
   "id": "873e9496",
   "metadata": {},
   "source": [
    "# b.) Find the value of f(6)"
   ]
  },
  {
   "cell_type": "code",
   "execution_count": 52,
   "id": "970d1e13",
   "metadata": {},
   "outputs": [],
   "source": [
    "#eqP9.f(6)"
   ]
  },
  {
   "cell_type": "code",
   "execution_count": null,
   "id": "b3c8cdbb",
   "metadata": {},
   "outputs": [],
   "source": []
  }
 ],
 "metadata": {
  "kernelspec": {
   "display_name": "Python 3 (ipykernel)",
   "language": "python",
   "name": "python3"
  },
  "language_info": {
   "codemirror_mode": {
    "name": "ipython",
    "version": 3
   },
   "file_extension": ".py",
   "mimetype": "text/x-python",
   "name": "python",
   "nbconvert_exporter": "python",
   "pygments_lexer": "ipython3",
   "version": "3.9.7"
  }
 },
 "nbformat": 4,
 "nbformat_minor": 5
}
