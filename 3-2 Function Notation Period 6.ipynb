{
 "cells": [
  {
   "cell_type": "code",
   "execution_count": 2,
   "id": "a52c4ac9",
   "metadata": {},
   "outputs": [],
   "source": [
    "import matplotlib.pyplot as plt\n",
    "import numpy as np\n",
    "import pandas as pd\n",
    "def slope(x1,y1,x2,y2):\n",
    "    changeY = y2-y1\n",
    "    vert = '(%s) - (%s) = %s'% (y2,y1,changeY)\n",
    "    changeX = x2-x1 \n",
    "    hor = '(%s) - (%s) = %s'% (x2,x1,changeX)\n",
    "    print('the change in y is: %s'% vert)\n",
    "    print('the change in x is: %s'% hor)\n",
    "    print('Slope (m) = %s / %s'% (changeY,changeX))\n",
    "    \n",
    "def sat(x):\n",
    "    y = -6*x+180\n",
    "    print('sat(%s) = -6(%s)+180 '% (x,x))\n",
    "    print('sat(%s) =   %s '% (x,y))\n",
    "    print()   \n",
    "    \n",
    "def f(x):\n",
    "    y = -2*x+1\n",
    "    print('f(%s) = -2(%s)+1 '% (x,x))\n",
    "    print('f(%s) =   %s '% (x,y))\n",
    "    print()\n",
    "\n",
    "def g(x):\n",
    "    y = -2*x-3\n",
    "    print('g(%s) = -2(%s)-3 '% (x,x))\n",
    "    print('g(%s) =   %s '% (x,y))\n",
    "    print()\n",
    "    \n",
    "def h(x):\n",
    "    y = 7*x+15\n",
    "    print('h(%s) = 7(%s)+15 '% (x,x))\n",
    "    print('h(%s) =   %s '% (x,y))\n",
    "    print()\n",
    "# b(x) goes with table B from try it 2 \n",
    "def b(x):\n",
    "    y = 3*x-2\n",
    "    print('b(%s) = 3(%s)-2 '% (x,x))\n",
    "    print('b(%s) =   %s '% (x,y))\n",
    "    print()\n",
    "# a(x) goes with problem # 7 from Pg. 96\n",
    "def a(x):\n",
    "    y = 0.5*x+5\n",
    "    print('a(%s) = -(1/2)(%s)+5 '% (x,x))\n",
    "    print('a(%s) =   %s '% (x,y))\n",
    "    print()\n",
    "    \n",
    "# holiday shopping tax costs  \n",
    "# Florida pays 6% sales tax (percent is out of 100; 6% = 6/100 or 0.06)\n",
    "def t(x):\n",
    "    y = 1.06*x\n",
    "    #y = round((1.06*x),2)\n",
    "    print('p(%s) = 0.06(%s)+(%s) '% (x,x,x))\n",
    "    #print('p(%s) =    1.6(%s)'% (x,x))\n",
    "    print('p(%s) =     %s'% (x,y))  \n",
    "# below is the inverse function to sales tax.\n",
    "def p(x):\n",
    "    y = x/1.06\n",
    "    \n",
    "    return round(y,2)\n",
    "# below sets up the three tables\n",
    "table = pd.DataFrame({'x':[-2,-1,0,1,2],\n",
    "                      'f(x)':[5,3,1,-1,-3]})\n",
    "blankIndex = [\"\"]*len(table)\n",
    "table.index=blankIndex\n",
    "table1=table.transpose()\n",
    "\n",
    "tryIt1A = pd.DataFrame({'x':[-4,0,4],\n",
    "                      'g(x)':[5,-3,-11]})\n",
    "blankIndex = [\"\"]*len(tryIt1A)\n",
    "tryIt1A.index=blankIndex\n",
    "tryIt1A=tryIt1A.transpose()\n",
    "\n",
    "tryIt1B = pd.DataFrame({'x':[-4,0,4],\n",
    "                      'h(x)':[-13,15,43]})\n",
    "blankIndex = [\"\"]*len(tryIt1B)\n",
    "tryIt1B.index=blankIndex\n",
    "tryIt1B=tryIt1B.transpose()\n",
    "\n",
    "tableA = pd.DataFrame({'x':[1,2,3,4],\n",
    "                      'y':[6.5,13,19.5,26]})\n",
    "blankIndex = [\"\"]*len(tableA)\n",
    "tableA.index=blankIndex\n",
    "tableA=tableA.transpose()\n",
    "\n",
    "tableB = pd.DataFrame({'x':[1,2,3,4],\n",
    "                      'y':[1,4,7,10]})\n",
    "blankIndex = [\"\"]*len(tableB)\n",
    "tableB.index=blankIndex\n",
    "tableB=tableB.transpose()\n",
    "\n",
    "taxTable = pd.DataFrame({'Price':[0,1,2,3,4],\n",
    "                      'Price after Tax':[0,1.06,2.12,3.18,4.24]})\n",
    "blankIndex = [\"\"]*len(taxTable)\n",
    "taxTable.index=blankIndex\n",
    "taxTable1=taxTable\n",
    "taxTable=taxTable.transpose()\n",
    "\n",
    "table29 = pd.DataFrame({'x':[0,1,2,3,4],\n",
    "                      'f(x)':[180,174,168,162,156]})\n",
    "blankIndex = [\"\"]*len(table29)\n",
    "table29.index=blankIndex\n",
    "\n",
    "\n",
    "\n",
    "\n",
    "\n"
   ]
  },
  {
   "cell_type": "markdown",
   "id": "64bef8cd",
   "metadata": {},
   "source": [
    "# Lesson 3-2 Function Notation\n",
    "\n",
    "# F(x) means the Function of x.\n",
    "## f(x) is a variable that replaces y in the equation  y = mx + b This is called Function Notation f(x) = mx+b.  \n",
    "## y is a fuction of x.\n",
    "### Some function, or action happens to x and creates y. "
   ]
  },
  {
   "cell_type": "code",
   "execution_count": null,
   "id": "ba0c87ef",
   "metadata": {},
   "outputs": [],
   "source": [
    "f(x) = -2x+1"
   ]
  },
  {
   "cell_type": "code",
   "execution_count": 4,
   "id": "e3510b93",
   "metadata": {},
   "outputs": [
    {
     "name": "stdout",
     "output_type": "stream",
     "text": [
      "f(-2) = -2(-2)+1 \n",
      "f(-2) =   5 \n",
      "\n",
      "f(-1) = -2(-1)+1 \n",
      "f(-1) =   3 \n",
      "\n",
      "f(0) = -2(0)+1 \n",
      "f(0) =   1 \n",
      "\n",
      "f(1) = -2(1)+1 \n",
      "f(1) =   -1 \n",
      "\n",
      "f(2) = -2(2)+1 \n",
      "f(2) =   -3 \n",
      "\n"
     ]
    }
   ],
   "source": [
    "f(-2)\n",
    "f(-1)\n",
    "f(0)\n",
    "f(1)\n",
    "f(2)"
   ]
  },
  {
   "cell_type": "code",
   "execution_count": 6,
   "id": "9f34bc82",
   "metadata": {
    "scrolled": true
   },
   "outputs": [
    {
     "name": "stdout",
     "output_type": "stream",
     "text": [
      "f(-4) = -2(-4)+1 \n",
      "f(-4) =   9 \n",
      "\n",
      "f(0) = -2(0)+1 \n",
      "f(0) =   1 \n",
      "\n",
      "f(4) = -2(4)+1 \n",
      "f(4) =   -7 \n",
      "\n"
     ]
    }
   ],
   "source": [
    "f(-4)\n",
    "f(0)\n",
    "f(4)\n"
   ]
  },
  {
   "cell_type": "markdown",
   "id": "15651b6e",
   "metadata": {},
   "source": [
    "## Function Notation allows us to use a function over and over with different x values called input values to create a table. "
   ]
  },
  {
   "cell_type": "code",
   "execution_count": null,
   "id": "007edf62",
   "metadata": {},
   "outputs": [],
   "source": []
  },
  {
   "cell_type": "markdown",
   "id": "42e3529c",
   "metadata": {},
   "source": [
    "## We can also graph a function from the table's data (x,y), or Slope Intercept form (y=mx+b)"
   ]
  },
  {
   "cell_type": "code",
   "execution_count": 65,
   "id": "dd9882e7",
   "metadata": {},
   "outputs": [
    {
     "data": {
      "image/png": "[encoded data removed]",
      "text/plain": [
       "<Figure size 432x288 with 1 Axes>"
      ]
     },
     "metadata": {
      "needs_background": "light"
     },
     "output_type": "display_data"
    }
   ],
   "source": [
    "plt.plot(table['x'],table['f(x)'], label = \"f(x) = -2x+1\")\n",
    "plt.legend()\n",
    "plt.axhline(color=\"black\")\n",
    "plt.axvline(color=\"black\")\n",
    "plt.show()"
   ]
  },
  {
   "cell_type": "markdown",
   "id": "857d3e6c",
   "metadata": {},
   "source": [
    "# Function Notatino also allows us to use different function at the same time.\n",
    "## We name each new function alphabetically f(x), g(x), h(x), etc. \n",
    "### f(x) is the first function in function notation, g(x) would be second, and h(x) would be third."
   ]
  },
  {
   "cell_type": "code",
   "execution_count": null,
   "id": "f2b6a620",
   "metadata": {},
   "outputs": [],
   "source": []
  },
  {
   "cell_type": "markdown",
   "id": "ae2a9864",
   "metadata": {},
   "source": [
    "## Try It, Pg. 94 # 1 a and 1 b, create a table using x = 4, x= -4, and x = 0 for each function. \n",
    "### Show your substitutions with function notation."
   ]
  },
  {
   "cell_type": "code",
   "execution_count": null,
   "id": "d4a901b3",
   "metadata": {},
   "outputs": [],
   "source": [
    "g(x) = -2x-3"
   ]
  },
  {
   "cell_type": "code",
   "execution_count": 7,
   "id": "03e7338d",
   "metadata": {},
   "outputs": [
    {
     "name": "stdout",
     "output_type": "stream",
     "text": [
      "g(-4) = -2(-4)-3 \n",
      "g(-4) =   5 \n",
      "\n",
      "g(0) = -2(0)-3 \n",
      "g(0) =   -3 \n",
      "\n",
      "g(4) = -2(4)-3 \n",
      "g(4) =   -11 \n",
      "\n"
     ]
    }
   ],
   "source": [
    "\n",
    "g(-4)\n",
    "g(0)\n",
    "g(4)"
   ]
  },
  {
   "cell_type": "code",
   "execution_count": 8,
   "id": "7ba7fdae",
   "metadata": {},
   "outputs": [
    {
     "data": {
      "text/html": [
       "<div>\n",
       "<style scoped>\n",
       "    .dataframe tbody tr th:only-of-type {\n",
       "        vertical-align: middle;\n",
       "    }\n",
       "\n",
       "    .dataframe tbody tr th {\n",
       "        vertical-align: top;\n",
       "    }\n",
       "\n",
       "    .dataframe thead th {\n",
       "        text-align: right;\n",
       "    }\n",
       "</style>\n",
       "<table border=\"1\" class=\"dataframe\">\n",
       "  <thead>\n",
       "    <tr style=\"text-align: right;\">\n",
       "      <th></th>\n",
       "      <th></th>\n",
       "      <th></th>\n",
       "      <th></th>\n",
       "    </tr>\n",
       "  </thead>\n",
       "  <tbody>\n",
       "    <tr>\n",
       "      <th>x</th>\n",
       "      <td>-4</td>\n",
       "      <td>0</td>\n",
       "      <td>4</td>\n",
       "    </tr>\n",
       "    <tr>\n",
       "      <th>g(x)</th>\n",
       "      <td>5</td>\n",
       "      <td>-3</td>\n",
       "      <td>-11</td>\n",
       "    </tr>\n",
       "  </tbody>\n",
       "</table>\n",
       "</div>"
      ],
      "text/plain": [
       "              \n",
       "x    -4  0   4\n",
       "g(x)  5 -3 -11"
      ]
     },
     "execution_count": 8,
     "metadata": {},
     "output_type": "execute_result"
    }
   ],
   "source": [
    "tryIt1A"
   ]
  },
  {
   "cell_type": "code",
   "execution_count": null,
   "id": "0c49bf20",
   "metadata": {},
   "outputs": [],
   "source": [
    "h(x) = 7x+15"
   ]
  },
  {
   "cell_type": "code",
   "execution_count": 10,
   "id": "e14e26b1",
   "metadata": {},
   "outputs": [
    {
     "data": {
      "text/html": [
       "<div>\n",
       "<style scoped>\n",
       "    .dataframe tbody tr th:only-of-type {\n",
       "        vertical-align: middle;\n",
       "    }\n",
       "\n",
       "    .dataframe tbody tr th {\n",
       "        vertical-align: top;\n",
       "    }\n",
       "\n",
       "    .dataframe thead th {\n",
       "        text-align: right;\n",
       "    }\n",
       "</style>\n",
       "<table border=\"1\" class=\"dataframe\">\n",
       "  <thead>\n",
       "    <tr style=\"text-align: right;\">\n",
       "      <th></th>\n",
       "      <th></th>\n",
       "      <th></th>\n",
       "      <th></th>\n",
       "    </tr>\n",
       "  </thead>\n",
       "  <tbody>\n",
       "    <tr>\n",
       "      <th>x</th>\n",
       "      <td>-4</td>\n",
       "      <td>0</td>\n",
       "      <td>4</td>\n",
       "    </tr>\n",
       "    <tr>\n",
       "      <th>h(x)</th>\n",
       "      <td>-13</td>\n",
       "      <td>15</td>\n",
       "      <td>43</td>\n",
       "    </tr>\n",
       "  </tbody>\n",
       "</table>\n",
       "</div>"
      ],
      "text/plain": [
       "                \n",
       "x     -4   0   4\n",
       "h(x) -13  15  43"
      ]
     },
     "execution_count": 10,
     "metadata": {},
     "output_type": "execute_result"
    }
   ],
   "source": [
    "tryIt1B"
   ]
  },
  {
   "cell_type": "markdown",
   "id": "feee1cd8",
   "metadata": {},
   "source": [
    "#  Lets give this some context, and use a function we all know:\n",
    "# There is a 6% sales tax on items bought in Florida. We can model this relationship with function notation."
   ]
  },
  {
   "cell_type": "code",
   "execution_count": null,
   "id": "8050403d",
   "metadata": {},
   "outputs": [],
   "source": [
    "# 6% is a ratio that represents 0.06 or 6/100. \n",
    "# We need to use the decimal or fraction equavalent in our function\n",
    "t(x) = "
   ]
  },
  {
   "cell_type": "code",
   "execution_count": 15,
   "id": "643b81f3",
   "metadata": {},
   "outputs": [
    {
     "data": {
      "text/plain": [
       "47.17"
      ]
     },
     "execution_count": 15,
     "metadata": {},
     "output_type": "execute_result"
    }
   ],
   "source": [
    "p(50)"
   ]
  },
  {
   "cell_type": "markdown",
   "id": "99cacc68",
   "metadata": {},
   "source": [
    "# We can also use a table to write a function.\n",
    "## we can use y = mx+b to find the function rule, and write the function."
   ]
  },
  {
   "cell_type": "code",
   "execution_count": 16,
   "id": "10a97b29",
   "metadata": {},
   "outputs": [
    {
     "name": "stdout",
     "output_type": "stream",
     "text": [
      "the change in y is: (3) - (5) = -2\n",
      "the change in x is: (-1) - (-2) = 1\n",
      "Slope (m) = -2 / 1\n"
     ]
    }
   ],
   "source": [
    "slope(-2,5,-1,3)"
   ]
  },
  {
   "cell_type": "code",
   "execution_count": 96,
   "id": "d5484b72",
   "metadata": {},
   "outputs": [
    {
     "data": {
      "text/html": [
       "<div>\n",
       "<style scoped>\n",
       "    .dataframe tbody tr th:only-of-type {\n",
       "        vertical-align: middle;\n",
       "    }\n",
       "\n",
       "    .dataframe tbody tr th {\n",
       "        vertical-align: top;\n",
       "    }\n",
       "\n",
       "    .dataframe thead th {\n",
       "        text-align: right;\n",
       "    }\n",
       "</style>\n",
       "<table border=\"1\" class=\"dataframe\">\n",
       "  <thead>\n",
       "    <tr style=\"text-align: right;\">\n",
       "      <th></th>\n",
       "      <th></th>\n",
       "      <th></th>\n",
       "      <th></th>\n",
       "      <th></th>\n",
       "      <th></th>\n",
       "    </tr>\n",
       "  </thead>\n",
       "  <tbody>\n",
       "    <tr>\n",
       "      <th>x</th>\n",
       "      <td>-2</td>\n",
       "      <td>-1</td>\n",
       "      <td>0</td>\n",
       "      <td>1</td>\n",
       "      <td>2</td>\n",
       "    </tr>\n",
       "    <tr>\n",
       "      <th>f(x)</th>\n",
       "      <td>5</td>\n",
       "      <td>3</td>\n",
       "      <td>1</td>\n",
       "      <td>-1</td>\n",
       "      <td>-3</td>\n",
       "    </tr>\n",
       "  </tbody>\n",
       "</table>\n",
       "</div>"
      ],
      "text/plain": [
       "                   \n",
       "x    -2 -1  0  1  2\n",
       "f(x)  5  3  1 -1 -3"
      ]
     },
     "execution_count": 96,
     "metadata": {},
     "output_type": "execute_result"
    }
   ],
   "source": [
    "table1"
   ]
  },
  {
   "cell_type": "markdown",
   "id": "f43f3ade",
   "metadata": {},
   "source": [
    "## Remember that m is slope (y = mx+b)\n",
    "## Slope is a rate that shows the change in y over the change in x. \n",
    "### It is easy to find slope from a table."
   ]
  },
  {
   "cell_type": "code",
   "execution_count": null,
   "id": "fe5fd3ac",
   "metadata": {},
   "outputs": [],
   "source": []
  },
  {
   "cell_type": "markdown",
   "id": "7708e1e9",
   "metadata": {},
   "source": [
    "## Once we find the slope we can test it against x values to find the y intercept (b, the amount added or subtracted to our function)\n",
    "\n"
   ]
  },
  {
   "cell_type": "markdown",
   "id": "f161d758",
   "metadata": {},
   "source": [
    "# Try it # 2a & 2b - Write the Function from a table."
   ]
  },
  {
   "cell_type": "code",
   "execution_count": 97,
   "id": "60c247c6",
   "metadata": {},
   "outputs": [
    {
     "data": {
      "text/html": [
       "<div>\n",
       "<style scoped>\n",
       "    .dataframe tbody tr th:only-of-type {\n",
       "        vertical-align: middle;\n",
       "    }\n",
       "\n",
       "    .dataframe tbody tr th {\n",
       "        vertical-align: top;\n",
       "    }\n",
       "\n",
       "    .dataframe thead th {\n",
       "        text-align: right;\n",
       "    }\n",
       "</style>\n",
       "<table border=\"1\" class=\"dataframe\">\n",
       "  <thead>\n",
       "    <tr style=\"text-align: right;\">\n",
       "      <th></th>\n",
       "      <th></th>\n",
       "      <th></th>\n",
       "      <th></th>\n",
       "      <th></th>\n",
       "    </tr>\n",
       "  </thead>\n",
       "  <tbody>\n",
       "    <tr>\n",
       "      <th>x</th>\n",
       "      <td>1.0</td>\n",
       "      <td>2.0</td>\n",
       "      <td>3.0</td>\n",
       "      <td>4.0</td>\n",
       "    </tr>\n",
       "    <tr>\n",
       "      <th>y</th>\n",
       "      <td>6.5</td>\n",
       "      <td>13.0</td>\n",
       "      <td>19.5</td>\n",
       "      <td>26.0</td>\n",
       "    </tr>\n",
       "  </tbody>\n",
       "</table>\n",
       "</div>"
      ],
      "text/plain": [
       "                        \n",
       "x  1.0   2.0   3.0   4.0\n",
       "y  6.5  13.0  19.5  26.0"
      ]
     },
     "execution_count": 97,
     "metadata": {},
     "output_type": "execute_result"
    }
   ],
   "source": [
    "tableA"
   ]
  },
  {
   "cell_type": "code",
   "execution_count": 17,
   "id": "1f3209c3",
   "metadata": {},
   "outputs": [
    {
     "name": "stdout",
     "output_type": "stream",
     "text": [
      "the change in y is: (13) - (6.5) = 6.5\n",
      "the change in x is: (2) - (1) = 1\n",
      "Slope (m) = 6.5 / 1\n"
     ]
    }
   ],
   "source": [
    "slope(1,6.5,2,13)"
   ]
  },
  {
   "cell_type": "code",
   "execution_count": 98,
   "id": "9f019a13",
   "metadata": {},
   "outputs": [
    {
     "data": {
      "text/html": [
       "<div>\n",
       "<style scoped>\n",
       "    .dataframe tbody tr th:only-of-type {\n",
       "        vertical-align: middle;\n",
       "    }\n",
       "\n",
       "    .dataframe tbody tr th {\n",
       "        vertical-align: top;\n",
       "    }\n",
       "\n",
       "    .dataframe thead th {\n",
       "        text-align: right;\n",
       "    }\n",
       "</style>\n",
       "<table border=\"1\" class=\"dataframe\">\n",
       "  <thead>\n",
       "    <tr style=\"text-align: right;\">\n",
       "      <th></th>\n",
       "      <th></th>\n",
       "      <th></th>\n",
       "      <th></th>\n",
       "      <th></th>\n",
       "    </tr>\n",
       "  </thead>\n",
       "  <tbody>\n",
       "    <tr>\n",
       "      <th>x</th>\n",
       "      <td>1</td>\n",
       "      <td>2</td>\n",
       "      <td>3</td>\n",
       "      <td>4</td>\n",
       "    </tr>\n",
       "    <tr>\n",
       "      <th>y</th>\n",
       "      <td>1</td>\n",
       "      <td>4</td>\n",
       "      <td>7</td>\n",
       "      <td>10</td>\n",
       "    </tr>\n",
       "  </tbody>\n",
       "</table>\n",
       "</div>"
      ],
      "text/plain": [
       "              \n",
       "x  1  2  3   4\n",
       "y  1  4  7  10"
      ]
     },
     "execution_count": 98,
     "metadata": {},
     "output_type": "execute_result"
    }
   ],
   "source": [
    "tableB"
   ]
  },
  {
   "cell_type": "code",
   "execution_count": 18,
   "id": "6bdf7aae",
   "metadata": {},
   "outputs": [
    {
     "name": "stdout",
     "output_type": "stream",
     "text": [
      "the change in y is: (4) - (1) = 3\n",
      "the change in x is: (2) - (1) = 1\n",
      "Slope (m) = 3 / 1\n"
     ]
    }
   ],
   "source": [
    "y = 3x-2"
   ]
  },
  {
   "cell_type": "markdown",
   "id": "a341726f",
   "metadata": {},
   "source": [
    "## Lets try that with our Tax Function write the rule from the table."
   ]
  },
  {
   "cell_type": "code",
   "execution_count": 110,
   "id": "2d1bf125",
   "metadata": {},
   "outputs": [
    {
     "data": {
      "text/html": [
       "<div>\n",
       "<style scoped>\n",
       "    .dataframe tbody tr th:only-of-type {\n",
       "        vertical-align: middle;\n",
       "    }\n",
       "\n",
       "    .dataframe tbody tr th {\n",
       "        vertical-align: top;\n",
       "    }\n",
       "\n",
       "    .dataframe thead th {\n",
       "        text-align: right;\n",
       "    }\n",
       "</style>\n",
       "<table border=\"1\" class=\"dataframe\">\n",
       "  <thead>\n",
       "    <tr style=\"text-align: right;\">\n",
       "      <th></th>\n",
       "      <th></th>\n",
       "      <th></th>\n",
       "      <th></th>\n",
       "      <th></th>\n",
       "      <th></th>\n",
       "    </tr>\n",
       "  </thead>\n",
       "  <tbody>\n",
       "    <tr>\n",
       "      <th>Price</th>\n",
       "      <td>0.0</td>\n",
       "      <td>1.00</td>\n",
       "      <td>2.00</td>\n",
       "      <td>3.00</td>\n",
       "      <td>4.00</td>\n",
       "    </tr>\n",
       "    <tr>\n",
       "      <th>Price after Tax</th>\n",
       "      <td>0.0</td>\n",
       "      <td>1.06</td>\n",
       "      <td>2.12</td>\n",
       "      <td>3.18</td>\n",
       "      <td>4.24</td>\n",
       "    </tr>\n",
       "  </tbody>\n",
       "</table>\n",
       "</div>"
      ],
      "text/plain": [
       "                                            \n",
       "Price            0.0  1.00  2.00  3.00  4.00\n",
       "Price after Tax  0.0  1.06  2.12  3.18  4.24"
      ]
     },
     "execution_count": 110,
     "metadata": {},
     "output_type": "execute_result"
    }
   ],
   "source": [
    "taxTable"
   ]
  },
  {
   "cell_type": "markdown",
   "id": "870bfe81",
   "metadata": {},
   "source": [
    "## We can also graph a function from the table's data (x,y), or Slope Intercept form (y=mx+b)"
   ]
  },
  {
   "cell_type": "code",
   "execution_count": 109,
   "id": "d90b2562",
   "metadata": {
    "scrolled": true
   },
   "outputs": [
    {
     "data": {
      "image/png": "[encoded data removed]",
      "text/plain": [
       "<Figure size 432x288 with 1 Axes>"
      ]
     },
     "metadata": {
      "needs_background": "light"
     },
     "output_type": "display_data"
    }
   ],
   "source": [
    "plt.plot(taxTable1['Price'],taxTable1['Price after Tax'], label = \"t(x) = 1.06x\")\n",
    "plt.legend()\n",
    "plt.title('Price after Tax as a Function of Price')\n",
    "plt.xlabel('x-values:', color='black')\n",
    "#plt.xticks(range(-10,10))\n",
    "plt.ylabel('y-values:', color='black')\n",
    "#plt.yticks(range(-10,10))\n",
    "plt.axhline(color=\"black\")\n",
    "plt.axvline(color=\"black\")\n",
    "plt.show()"
   ]
  },
  {
   "cell_type": "code",
   "execution_count": 25,
   "id": "5b50f88e",
   "metadata": {},
   "outputs": [
    {
     "name": "stdout",
     "output_type": "stream",
     "text": [
      "sat(9) = -6(9)+180 \n",
      "sat(9) =   126 \n",
      "\n"
     ]
    }
   ],
   "source": [
    "sat(9)"
   ]
  },
  {
   "cell_type": "code",
   "execution_count": null,
   "id": "9369d943",
   "metadata": {},
   "outputs": [],
   "source": [
    "b(x) = 3x-2"
   ]
  },
  {
   "cell_type": "code",
   "execution_count": null,
   "id": "8580de3a",
   "metadata": {},
   "outputs": [],
   "source": []
  },
  {
   "cell_type": "code",
   "execution_count": null,
   "id": "9cdb9051",
   "metadata": {},
   "outputs": [],
   "source": [
    "b(4)"
   ]
  },
  {
   "cell_type": "code",
   "execution_count": null,
   "id": "68e12a9c",
   "metadata": {},
   "outputs": [],
   "source": [
    "\n",
    "\n",
    "\n",
    "\n",
    "# below is for Problem # 7"
   ]
  },
  {
   "cell_type": "code",
   "execution_count": null,
   "id": "ddb3f315",
   "metadata": {},
   "outputs": [],
   "source": [
    "# 7  \n",
    "a(x) = 1/2x+5"
   ]
  },
  {
   "cell_type": "code",
   "execution_count": 87,
   "id": "c6573b06",
   "metadata": {},
   "outputs": [
    {
     "name": "stdout",
     "output_type": "stream",
     "text": [
      "a(-2) = -(1/2)(-2)+5 \n",
      "a(-2) =   4.0 \n",
      "\n",
      "a(0) = -(1/2)(0)+5 \n",
      "a(0) =   5.0 \n",
      "\n",
      "a(3) = -(1/2)(3)+5 \n",
      "a(3) =   6.5 \n",
      "\n"
     ]
    }
   ],
   "source": [
    "a(-2)\n",
    "a(0)\n",
    "a(3)"
   ]
  },
  {
   "cell_type": "code",
   "execution_count": null,
   "id": "fc913ae3",
   "metadata": {},
   "outputs": [],
   "source": [
    "(,)\n",
    "(,)\n",
    "(,)"
   ]
  }
 ],
 "metadata": {
  "kernelspec": {
   "display_name": "Python 3 (ipykernel)",
   "language": "python",
   "name": "python3"
  },
  "language_info": {
   "codemirror_mode": {
    "name": "ipython",
    "version": 3
   },
   "file_extension": ".py",
   "mimetype": "text/x-python",
   "name": "python",
   "nbconvert_exporter": "python",
   "pygments_lexer": "ipython3",
   "version": "3.9.7"
  }
 },
 "nbformat": 4,
 "nbformat_minor": 5
}
